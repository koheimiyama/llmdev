{
 "cells": [
  {
   "cell_type": "code",
   "execution_count": 1,
   "id": "fc3801f1",
   "metadata": {},
   "outputs": [],
   "source": [
    "# 必要なモジュールをインポート\n",
    "import os\n",
    "from dotenv import load_dotenv\n",
    "from openai import OpenAI\n",
    "from pprint import pprint\n",
    "\n",
    "# 環境変数の取得\n",
    "load_dotenv(\"../.env\")\n",
    "\n",
    "# OpenAI APIクライアントを生成\n",
    "client = OpenAI(api_key=os.environ['API_KEY'])\n",
    "\n",
    "# モデル名\n",
    "MODEL_NAME = \"gpt-4o-mini\""
   ]
  },
  {
   "cell_type": "code",
   "execution_count": 2,
   "id": "e53de098",
   "metadata": {},
   "outputs": [
    {
     "name": "stdout",
     "output_type": "stream",
     "text": [
      "{'_request_id': 'req_26d883db7db91098d3c373ffff288cd7',\n",
      " 'choices': [Choice(finish_reason='stop', index=0, logprobs=None, message=ChatCompletionMessage(content='言語モデルを効果的に使うためのポイントはいくつかあります。以下に主要な点を挙げます：\\n\\n1. **明確な目的を持つ**：\\n   - モデルを使用する目的を明確にすることで、結果が期待に沿ったものになるようにします。\\n\\n2. **適切なプロンプトを設計する**：\\n   - モデルに与える入力（プロンプト）が明確で具体的であるほど、望ましい出力が得られやすいです。\\n\\n3. **コンテキストを活用する**：\\n   - モデルは文脈に依存するため、関連する情報や背景を提供することで、より正確で関連性の高い応答を得られます。\\n\\n4. **フィードバックループを作る**：\\n   - 出力結果に対してフィードバックを行い、必要に応じてプロンプトを調整することで、改善を図ります。\\n\\n5. **モデルの限界を理解する**：\\n   - モデルには限界があり、必ずしも正確な情報を提供するわけではありません。そのため、特に重要な決定を行う際には、他の情報源との照合が必要です。\\n\\n6. **多様な視点を考慮する**：\\n   - モデルは多くの情報を学習していますが、偏りが含まれている場合もあるため、異なる視点を考慮することが重要です。\\n\\n7. **プライバシーと倫理に配慮する**：\\n   - データの使用に際しては、プライバシーや倫理的な問題を考慮し、適切な利用を心がけることが大切です。\\n\\n8. **実験と調整**：\\n   - さまざまなプロンプトや設定を試すことで、最適な結果を得るための調整を行います。\\n\\nこれらのポイントを意識することで、言語モデルをより効果的に活用できるでしょう。', refusal=None, role='assistant', audio=None, function_call=None, tool_calls=None, annotations=[]))],\n",
      " 'created': 1747210672,\n",
      " 'id': 'chatcmpl-BX1bETkY4Ta4Aykpj1ZwyUqqkHANb',\n",
      " 'model': 'gpt-4o-mini-2024-07-18',\n",
      " 'object': 'chat.completion',\n",
      " 'service_tier': 'default',\n",
      " 'system_fingerprint': 'fp_129a36352a',\n",
      " 'usage': CompletionUsage(completion_tokens=468, prompt_tokens=18, total_tokens=486, completion_tokens_details=CompletionTokensDetails(accepted_prediction_tokens=0, audio_tokens=0, reasoning_tokens=0, rejected_prediction_tokens=0), prompt_tokens_details=PromptTokensDetails(audio_tokens=0, cached_tokens=0))}\n"
     ]
    }
   ],
   "source": [
    "# メッセージの設定\n",
    "message = \"言語モデルを使う上でのポイントは\"\n",
    "\n",
    "# APIへリクエスト\n",
    "response = client.chat.completions.create(\n",
    "    model=MODEL_NAME,\n",
    "    messages=[\n",
    "        {\"role\": \"user\", \"content\": message},\n",
    "    ]\n",
    ")\n",
    "\n",
    "# レスポンスの表示\n",
    "pprint(vars(response))"
   ]
  },
  {
   "cell_type": "code",
   "execution_count": 3,
   "id": "7e183c89",
   "metadata": {},
   "outputs": [
    {
     "name": "stdout",
     "output_type": "stream",
     "text": [
      "言語モデルを効果的に使うためのポイントはいくつかあります。以下に主要な点を挙げます：\n",
      "\n",
      "1. **明確な目的を持つ**：\n",
      "   - モデルを使用する目的を明確にすることで、結果が期待に沿ったものになるようにします。\n",
      "\n",
      "2. **適切なプロンプトを設計する**：\n",
      "   - モデルに与える入力（プロンプト）が明確で具体的であるほど、望ましい出力が得られやすいです。\n",
      "\n",
      "3. **コンテキストを活用する**：\n",
      "   - モデルは文脈に依存するため、関連する情報や背景を提供することで、より正確で関連性の高い応答を得られます。\n",
      "\n",
      "4. **フィードバックループを作る**：\n",
      "   - 出力結果に対してフィードバックを行い、必要に応じてプロンプトを調整することで、改善を図ります。\n",
      "\n",
      "5. **モデルの限界を理解する**：\n",
      "   - モデルには限界があり、必ずしも正確な情報を提供するわけではありません。そのため、特に重要な決定を行う際には、他の情報源との照合が必要です。\n",
      "\n",
      "6. **多様な視点を考慮する**：\n",
      "   - モデルは多くの情報を学習していますが、偏りが含まれている場合もあるため、異なる視点を考慮することが重要です。\n",
      "\n",
      "7. **プライバシーと倫理に配慮する**：\n",
      "   - データの使用に際しては、プライバシーや倫理的な問題を考慮し、適切な利用を心がけることが大切です。\n",
      "\n",
      "8. **実験と調整**：\n",
      "   - さまざまなプロンプトや設定を試すことで、最適な結果を得るための調整を行います。\n",
      "\n",
      "これらのポイントを意識することで、言語モデルをより効果的に活用できるでしょう。\n"
     ]
    }
   ],
   "source": [
    "# 言語モデルからの回答を表示\n",
    "print(response.choices[0].message.content.strip())"
   ]
  },
  {
   "cell_type": "code",
   "execution_count": 4,
   "id": "e6cee646",
   "metadata": {},
   "outputs": [
    {
     "name": "stdout",
     "output_type": "stream",
     "text": [
      "新製品の発売に向けた効果的なマーケティング戦略は以下のステップで構成されています。\n",
      "\n",
      "### 1. 市場調査とターゲット設定\n",
      "- **市場分析**: 競合他社や市場トレンドを調査し、製品の差別化ポイントを明確にします。\n",
      "- **ターゲット顧客の特定**: デモグラフィック（年齢、性別、収入など）や心理的要因（価値観、ライフスタイル）に基づいて主要なターゲットを設定します。\n",
      "\n",
      "### 2. ブランドストーリーの構築\n",
      "- **コンセプトとメッセージ**: 製品の特徴や利点を明確にし、消費者に響くストーリーを作ります。感情的なつながりを強調することが肝要です。\n",
      "- **ビジュアルアイデンティティ**: ロゴやパッケージデザインに一貫性を持たせ、ブランドの認知度を高めます。\n",
      "\n",
      "### 3. マルチチャネルプロモーション\n",
      "- **デジタルマーケティング**: SNS（Instagram、Facebook、Twitterなど）やWeb広告、SEO対策を組み合わせ、オンラインでの認知度を向上させます。\n",
      "- **インフルエンサーとのコラボレーション**: 人気のあるインフルエンサーやブロガーと提携し、製品を広めてもらうことで信頼性を高めます。\n",
      "\n",
      "### 4. プリ・ローンチキャンペーン\n",
      "- **ティーザーキャンペーン**: 製品発売の前にコンセプトや特徴を小出しにし、顧客の興味を喚起します。\n",
      "- **プレオーダー**: 興味を持つ消費者に対して、発売前に予約販売を行うことで即座に収益を上げるとともに、需要を把握します。\n",
      "\n",
      "### 5. 発売日イベント\n",
      "- **ローンチイベント**: オンラインまたはオフラインのイベントを開催し、メディアやインフルエンサーを招待して盛り上げます。\n",
      "- **サンプル提供**: 体験型キャンペーンを通じて、試用機会を提供し顧客のフィードバックを得ます。\n",
      "\n",
      "### 6. フィードバックと改善\n",
      "- **顧客の声を収集**: SNSやアンケートなどを通じて、顧客からのフィードバックを積極的に収集します。\n",
      "- **戦略の見直し**: フィードバックやデータを分析し、必要に応じてマーケティング戦略を修正します。\n",
      "\n",
      "### 7. 長期的なエンゲージメント\n",
      "- **顧客関係の構築**: メールマーケティングやロイヤルティプログラムを通じて、リピーターを増やし、顧客との関係を強化します。\n",
      "- **コンテンツマーケティング**: 製品に関連する知識やライフスタイル情報を共有し、ブランドの信頼性を向上させます。\n",
      "\n",
      "これらのステップを踏まえて、計画を実行することで、新製品の発売を成功に導くことができます。\n"
     ]
    }
   ],
   "source": [
    "# 役割や前提の設定\n",
    "role = \"あなたはマーケティング分野に精通したビジネスコンサルタントです。企業の成長をサポートするために、効果的なマーケティング戦略を提供します。\"\n",
    "\n",
    "# メッセージの設定\n",
    "message = \"新製品の発売に向けた効果的なマーケティング戦略を教えてください。\"\n",
    "\n",
    "# APIへリクエスト\n",
    "response = client.chat.completions.create(\n",
    "    model=MODEL_NAME,\n",
    "    messages=[\n",
    "        {\"role\": \"system\", \"content\": role},\n",
    "        {\"role\": \"user\", \"content\": message},\n",
    "    ],\n",
    ")\n",
    "\n",
    "# 言語モデルからの回答を表示\n",
    "print(response.choices[0].message.content.strip())"
   ]
  },
  {
   "cell_type": "code",
   "execution_count": 7,
   "id": "4e55dc69",
   "metadata": {},
   "outputs": [
    {
     "name": "stdout",
     "output_type": "stream",
     "text": [
      "--------------------\n",
      "もちろんです！日本の魅力は多岐にわたり、自然、文化、歴史、人々など様々な面で表れています。以下にいくつかのポイントを挙げてみます。\n",
      "\n",
      "### 1. **自然の美**\n",
      "日本には美しい自然環境があります。桜の美しい季節、紅葉の秋、さらには雄大な山々や美しい海岸線など、四季折々の\n",
      "--------------------\n",
      "もちろん、日本には多くの魅力があります。以下にいくつか挙げてみます。\n",
      "\n",
      "### 1. 文化と伝統\n",
      "日本は豊かな文化と歴史を持っています。祭りや伝統行事、茶道、着物などがその代表例です。特にお花見や盆踊りなど、四季折々のイベントは多くの人々に愛されています。\n",
      "\n",
      "### 2. 美しい風\n",
      "--------------------\n",
      "もちろんです！日本は多様な文化、風景、歴史、食べ物など、本当に魅力的な国です。以下にいくつかのポイントを紹介します。\n",
      "\n",
      "1. **美しい自然**: 日本は四季がはっきりしており、春の桜、夏の緑、秋の紅葉、冬の雪景色それぞれに魅力があります。また、富士山や屋久島、伊\n"
     ]
    }
   ],
   "source": [
    "# 出力の多様性\n",
    "message = \"日本の魅力を紹介して！\"\n",
    "\n",
    "# APIへリクエスト\n",
    "response = client.chat.completions.create(\n",
    "    model=MODEL_NAME,\n",
    "    messages=[\n",
    "        {\"role\": \"user\", \"content\": message},\n",
    "    ],\n",
    "    temperature=1.4,\n",
    "#    temperature=0.0,\n",
    "    n = 3, # 3回答を得る\n",
    "    max_completion_tokens = 100 # 出力トークン長を制限\n",
    ")\n",
    "\n",
    "# 結果を表示（複数回答を比較）\n",
    "for choice in response.choices:\n",
    "    print(\"-\" * 20)\n",
    "    print(choice.message.content.strip())"
   ]
  },
  {
   "cell_type": "code",
   "execution_count": 9,
   "id": "66c835ef",
   "metadata": {},
   "outputs": [
    {
     "name": "stdout",
     "output_type": "stream",
     "text": [
      "--------------------\n",
      "もちろん、日本には多くの魅力があります！いくつかのポイントを挙げてみましょう。\n",
      "\n",
      "1. **豊かな文化と歴史**: 日本は古代から続く独自の文化や伝統があり、神社や寺院、城などの歴史的な建造物も多数存在します。京都や奈良では、昔ながらの町並みや風景が楽しめます。\n",
      "\n",
      "2. **美しい\n",
      "--------------------\n",
      "日本は、その独自の文化、歴史、美しい自然景観など、多くの魅力を持っています。以下にいくつかのポイントを紹介します。\n",
      "\n",
      "### 1. 豊かな文化と伝統\n",
      "- **伝統行事**: 神社やお寺での祭り、茶道、花道（生け花）など、日本の伝統文化はまだ根付いています。\n",
      "- **食文化**: 寿司、\n",
      "--------------------\n",
      "もちろん、日本の魅力をいくつか紹介しますね。\n",
      "\n",
      "1. **文化と歴史**:\n",
      "   日本は長い歴史を持ち、伝統と現代が共存しています。古都京都や奈良には美しい神社や寺院が多く、茶道や花道、武道などの伝統芸能も楽しむことができます。\n",
      "\n",
      "2. **自然の美しさ**:\n",
      "   四季折々の風\n"
     ]
    }
   ],
   "source": [
    "# 出力の多様性\n",
    "message = \"日本の魅力を紹介して！\"\n",
    "\n",
    "# APIへリクエスト\n",
    "response = client.chat.completions.create(\n",
    "    model=MODEL_NAME,\n",
    "    messages=[\n",
    "        {\"role\": \"user\", \"content\": message},\n",
    "    ],\n",
    "#    presence_penalty=-2.0,\n",
    "    presence_penalty=2.0,\n",
    "    n = 3, # 3回答を得る\n",
    "    max_completion_tokens = 100 # 出力トークン長を制限\n",
    ")\n",
    "\n",
    "# 結果を表示（複数回答を比較）\n",
    "for choice in response.choices:\n",
    "    print(\"-\" * 20)\n",
    "    print(choice.message.content.strip())"
   ]
  },
  {
   "cell_type": "code",
   "execution_count": 10,
   "id": "278e88e0",
   "metadata": {},
   "outputs": [
    {
     "name": "stdout",
     "output_type": "stream",
     "text": [
      "tokens_count=2\n",
      "tokens=[95839, 3393]\n"
     ]
    }
   ],
   "source": [
    "import tiktoken\n",
    "from tiktoken.core import Encoding\n",
    "\n",
    "# OpenAI APIの特定のモデルに対応するトークナイザーを取得\n",
    "encoding: Encoding = tiktoken.encoding_for_model(MODEL_NAME) # o200k_base\n",
    "\n",
    "# テキストをトークンIDのリストに変換\n",
    "tokens = encoding.encode(\"こんにちは！\")\n",
    "tokens_count = len(tokens)\n",
    "\n",
    "# トークンの長さとトークンIDを表示\n",
    "print(f\"{tokens_count=}\")\n",
    "print(f\"{tokens=}\")"
   ]
  },
  {
   "cell_type": "code",
   "execution_count": 11,
   "id": "49c5e031",
   "metadata": {},
   "outputs": [
    {
     "name": "stdout",
     "output_type": "stream",
     "text": [
      "--------------------\n",
      "B:こんにちは、Aさん！お元気ですか？\n",
      "--------------------\n",
      "B:こんにちは！Aさん、元気ですか？\n",
      "--------------------\n",
      "B:こんにちは、Aさん！お久しぶりですね。どうですか？\n"
     ]
    }
   ],
   "source": [
    "# トークンの選択度合い\n",
    "message = \"\"\"\n",
    "AさんとBさんで会話してください。\n",
    "A:あ、Bさんだ。\n",
    "B:\n",
    "\"\"\"\n",
    "\n",
    "# APIへリクエスト\n",
    "response = client.chat.completions.create(\n",
    "    model=MODEL_NAME,\n",
    "    messages=[\n",
    "        {\"role\": \"user\", \"content\": message},\n",
    "    ],\n",
    "    max_tokens=100,\n",
    "    n=3,\n",
    "    logit_bias = {95839:8, 3393:8}\n",
    ")\n",
    "\n",
    "# 結果を表示\n",
    "for choice in response.choices:\n",
    "    print(\"-\" * 20)\n",
    "    print(choice.message.content.strip())"
   ]
  },
  {
   "cell_type": "code",
   "execution_count": 12,
   "id": "26fe0f13",
   "metadata": {},
   "outputs": [
    {
     "name": "stdout",
     "output_type": "stream",
     "text": [
      "言語モデルを使う際のポイントはいくつかあります。以下にいくつかの重要な点を挙げます。\n",
      "\n",
      "1. **明確な目的を持つ**: 言語モデルを使用する前に、何を達成したいのかを明確に定義します。自動生成、質問応答、翻訳、要約など、目的に応じた使い方を検討します。\n",
      "\n",
      "2. **入力の質**: モデルに与える入力は重要です。具体的で明確な指示や質問をすることで、より良い出力が期待できます。文脈や詳細を含めると、結果が改善されます。\n",
      "\n",
      "3. **フィードバックループの活用**: モデルの出力を評価し、必要に応じて修正を加えます。フィードバックを元に入力を調整することで、さらに良い結果を得ることができます。\n",
      "\n",
      "4. **制約と限界の理解**: 言語モデルには限界があります。最新の情報にはアクセスできない可能性があるため、特に重要な決定を行う際には、他の情報源と照らし合わせることが重要です。\n",
      "\n",
      "5. **多様な視点を取り入れる**: モデルの出力や生成物は多様であるため、異なる結果や視点を考慮することも重要です。特にクリエイティブな作業においては、様々な案を見比べることで新しいアイデアを得やすくなります。\n",
      "\n",
      "6. **倫理的な配慮**: モデルにいる偏りや不適切な内容に注意し、倫理的な側面を考慮した使い方を心がけることが大切です。特に、自動生成されたコンテンツの利用に際しては、責任を持って扱う必要があります。\n",
      "\n",
      "7. **利用可能な機能の把握**: 使用しているモデルの機能やパラメータについて理解し、最適な設定を選ぶことが求められます。温度調整やトップKサンプリング、ビームサーチなどの技術を使って生成結果をカスタマイズできます。\n",
      "\n",
      "これらのポイントを意識することで、言語モデルをより効果的に活用できるでしょう。"
     ]
    }
   ],
   "source": [
    "# メッセージの設定\n",
    "message = \"言語モデルを使う上でのポイントは\"\n",
    "\n",
    "# APIへリクエスト\n",
    "stream = client.chat.completions.create(\n",
    "    model=MODEL_NAME,\n",
    "    messages=[\n",
    "        {\"role\": \"user\", \"content\": message},\n",
    "    ],\n",
    "    stream=True,\n",
    ")\n",
    "\n",
    "for chunk in stream:\n",
    "    if chunk.choices:\n",
    "        if chunk.choices[0].delta.content is not None:\n",
    "            print(chunk.choices[0].delta.content, end=\"\")"
   ]
  },
  {
   "cell_type": "code",
   "execution_count": null,
   "id": "de473a0f",
   "metadata": {},
   "outputs": [],
   "source": []
  }
 ],
 "metadata": {
  "kernelspec": {
   "display_name": ".venv",
   "language": "python",
   "name": "python3"
  },
  "language_info": {
   "codemirror_mode": {
    "name": "ipython",
    "version": 3
   },
   "file_extension": ".py",
   "mimetype": "text/x-python",
   "name": "python",
   "nbconvert_exporter": "python",
   "pygments_lexer": "ipython3",
   "version": "3.12.8"
  }
 },
 "nbformat": 4,
 "nbformat_minor": 5
}
