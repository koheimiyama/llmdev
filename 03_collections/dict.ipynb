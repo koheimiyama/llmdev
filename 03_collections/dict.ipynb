{
 "cells": [
  {
   "cell_type": "code",
   "execution_count": 1,
   "id": "f590d5d3",
   "metadata": {},
   "outputs": [
    {
     "name": "stdout",
     "output_type": "stream",
     "text": [
      "{'one': 1, 'two': 2, 'three': 3}\n",
      "{'name': 'Alice', 'age': 25, 'is_student': False}\n",
      "{}\n"
     ]
    }
   ],
   "source": [
    "# 数値を格納した辞書\n",
    "numbers = {\"one\": 1, \"two\": 2, \"three\": 3}\n",
    "print(numbers)  # {'one': 1, 'two': 2, 'three': 3}\n",
    "\n",
    "# 異なるデータ型の値を格納した辞書\n",
    "person = {\"name\": \"Alice\", \"age\": 25, \"is_student\": False}\n",
    "print(person)  # {'name': 'Alice', 'age': 25, 'is_student': False}\n",
    "\n",
    "# 空の辞書\n",
    "empty_dict = {}\n",
    "print(empty_dict)  # {}"
   ]
  },
  {
   "cell_type": "code",
   "execution_count": 2,
   "id": "0ea30cdf",
   "metadata": {},
   "outputs": [
    {
     "name": "stdout",
     "output_type": "stream",
     "text": [
      "{'name': 'Bob', 'age': 30, 'is_student': True}\n",
      "{'apple': 100, 'banana': 200, 'cherry': 300}\n"
     ]
    }
   ],
   "source": [
    "# キーワード引数で辞書を作成\n",
    "person = dict(name=\"Bob\", age=30, is_student=True)\n",
    "print(person)  # {'name': 'Bob', 'age': 30, 'is_student': True}\n",
    "\n",
    "# タプルのリストから辞書を作成\n",
    "pairs = [(\"apple\", 100), (\"banana\", 200), (\"cherry\", 300)]\n",
    "fruit_prices = dict(pairs)\n",
    "print(fruit_prices)  # {'apple': 100, 'banana': 200, 'cherry': 300}"
   ]
  },
  {
   "cell_type": "code",
   "execution_count": 3,
   "id": "88a71b99",
   "metadata": {},
   "outputs": [
    {
     "name": "stdout",
     "output_type": "stream",
     "text": [
      "{'key1': 0, 'key2': 0, 'key3': 0, 'key4': 0, 'key5': 0}\n"
     ]
    }
   ],
   "source": [
    "# キーを \"key1\" から \"key5\" として、全ての値を 0 に初期化\n",
    "keys = [\"key1\", \"key2\", \"key3\", \"key4\", \"key5\"]\n",
    "repeated_values_dict = dict.fromkeys(keys, 0)\n",
    "print(repeated_values_dict)"
   ]
  },
  {
   "cell_type": "code",
   "execution_count": null,
   "id": "d161eb45",
   "metadata": {},
   "outputs": [],
   "source": []
  }
 ],
 "metadata": {
  "kernelspec": {
   "display_name": ".venv",
   "language": "python",
   "name": "python3"
  },
  "language_info": {
   "codemirror_mode": {
    "name": "ipython",
    "version": 3
   },
   "file_extension": ".py",
   "mimetype": "text/x-python",
   "name": "python",
   "nbconvert_exporter": "python",
   "pygments_lexer": "ipython3",
   "version": "3.12.8"
  }
 },
 "nbformat": 4,
 "nbformat_minor": 5
}
