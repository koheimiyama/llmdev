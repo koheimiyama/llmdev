{
 "cells": [
  {
   "cell_type": "code",
   "execution_count": 7,
   "id": "f28caf40",
   "metadata": {},
   "outputs": [
    {
     "name": "stdout",
     "output_type": "stream",
     "text": [
      "平均点: 86.6\n",
      "最高点: 92\n",
      "最低点: 78\n",
      "平均以上の学生数: 3\n"
     ]
    }
   ],
   "source": [
    "grades = [85, 90, 78, 92, 88]\n",
    "\n",
    "ave = sum(grades) / len(grades)\n",
    "max_score = max(grades)\n",
    "min_score = min(grades)\n",
    "num = len([i for i in grades if i >= ave])\n",
    "\n",
    "print(f\"平均点: {ave}\")\n",
    "print(f\"最高点: {max_score}\")\n",
    "print(f\"最低点: {min_score}\")\n",
    "print(f\"平均以上の学生数: {num}\")"
   ]
  },
  {
   "cell_type": "code",
   "execution_count": 6,
   "id": "f45c6f5e",
   "metadata": {},
   "outputs": [
    {
     "name": "stdout",
     "output_type": "stream",
     "text": [
      "平均点: 80.0\n",
      "最高点: 90\n",
      "最低点: 70\n",
      "平均以上の学生数: 3\n"
     ]
    }
   ],
   "source": [
    "grades = [70, 75, 80, 85, 90]\n",
    "\n",
    "ave = sum(grades) / len(grades)\n",
    "max_score = max(grades)\n",
    "min_score = min(grades)\n",
    "num = len([i for i in grades if i >= ave])\n",
    "\n",
    "print(f\"平均点: {ave}\")\n",
    "print(f\"最高点: {max_score}\")\n",
    "print(f\"最低点: {min_score}\")\n",
    "print(f\"平均以上の学生数: {num}\")"
   ]
  }
 ],
 "metadata": {
  "kernelspec": {
   "display_name": ".venv",
   "language": "python",
   "name": "python3"
  },
  "language_info": {
   "codemirror_mode": {
    "name": "ipython",
    "version": 3
   },
   "file_extension": ".py",
   "mimetype": "text/x-python",
   "name": "python",
   "nbconvert_exporter": "python",
   "pygments_lexer": "ipython3",
   "version": "3.12.8"
  }
 },
 "nbformat": 4,
 "nbformat_minor": 5
}
