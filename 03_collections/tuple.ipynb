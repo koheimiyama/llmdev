{
 "cells": [
  {
   "cell_type": "code",
   "execution_count": 1,
   "id": "205d68b1",
   "metadata": {},
   "outputs": [
    {
     "name": "stdout",
     "output_type": "stream",
     "text": [
      "(1, 2, 3, 4, 5)\n",
      "('apple', 'banana', 'cherry')\n",
      "(1, 'apple', 3.14, True)\n",
      "()\n",
      "(1,)\n"
     ]
    }
   ],
   "source": [
    "# 数値を格納したタプル\n",
    "numbers = (1, 2, 3, 4, 5)\n",
    "print(numbers)  # (1, 2, 3, 4, 5)\n",
    "\n",
    "# 文字列を格納したタプル\n",
    "fruits = (\"apple\", \"banana\", \"cherry\")\n",
    "print(fruits)  # ('apple', 'banana', 'cherry')\n",
    "\n",
    "# 異なるデータ型を混在させたタプル\n",
    "mixed = (1, \"apple\", 3.14, True)\n",
    "print(mixed)  # (1, 'apple', 3.14, True)\n",
    "\n",
    "# 空のタプル\n",
    "empty_tuple = ()\n",
    "print(empty_tuple)  # ()\n",
    "\n",
    "# 要素が1つだけのタプル\n",
    "one_element_tuple = (1,)\n",
    "print(one_element_tuple)  # ()"
   ]
  },
  {
   "cell_type": "code",
   "execution_count": 2,
   "id": "dcc155ee",
   "metadata": {},
   "outputs": [
    {
     "name": "stdout",
     "output_type": "stream",
     "text": [
      "('h', 'e', 'l', 'l', 'o')\n",
      "(1, 2, 3)\n",
      "(0, 1, 2, 3, 4)\n",
      "()\n"
     ]
    }
   ],
   "source": [
    "# 文字列をタプルに変換\n",
    "string_to_tuple = tuple(\"hello\")\n",
    "print(string_to_tuple)  # ('h', 'e', 'l', 'l', 'o')\n",
    "\n",
    "# リストをタプルに変換\n",
    "list_to_tuple = tuple([1, 2, 3])\n",
    "print(list_to_tuple)  # (1, 2, 3)\n",
    "\n",
    "# range()関数で生成された範囲をタプルに変換\n",
    "range_to_tuple = tuple(range(5))\n",
    "print(range_to_tuple)  # (0, 1, 2, 3, 4)\n",
    "\n",
    "# tuple()関数を使った空のタプル\n",
    "empty_tuple = tuple()\n",
    "print(empty_tuple)  # ()"
   ]
  },
  {
   "cell_type": "code",
   "execution_count": null,
   "id": "91d18828",
   "metadata": {},
   "outputs": [],
   "source": []
  }
 ],
 "metadata": {
  "kernelspec": {
   "display_name": ".venv",
   "language": "python",
   "name": "python3"
  },
  "language_info": {
   "codemirror_mode": {
    "name": "ipython",
    "version": 3
   },
   "file_extension": ".py",
   "mimetype": "text/x-python",
   "name": "python",
   "nbconvert_exporter": "python",
   "pygments_lexer": "ipython3",
   "version": "3.12.8"
  }
 },
 "nbformat": 4,
 "nbformat_minor": 5
}
