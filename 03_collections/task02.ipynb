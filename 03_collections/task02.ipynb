{
 "cells": [
  {
   "cell_type": "code",
   "execution_count": null,
   "id": "118b9930",
   "metadata": {},
   "outputs": [
    {
     "name": "stdout",
     "output_type": "stream",
     "text": [
      "入力した英単語：['bear', 'cat', 'dog', 'giraffe', 'horse', 'kangaroo']\n",
      "aが5個ありました\n",
      "bが1個ありました\n",
      "cが1個ありました\n",
      "dが1個ありました\n",
      "eが3個ありました\n",
      "fが2個ありました\n",
      "gが3個ありました\n",
      "hが1個ありました\n",
      "iが1個ありました\n",
      "kが1個ありました\n",
      "nが1個ありました\n",
      "oが4個ありました\n",
      "rが4個ありました\n",
      "sが1個ありました\n",
      "tが1個ありました\n"
     ]
    }
   ],
   "source": [
    "words = []\n",
    "\n",
    "alphabet = dict.fromkeys(list(\"abcdefghijklmnopqrstuvwxyz\"), 0)\n",
    "\n",
    "while True:\n",
    "  word = input(\"英単語を入力してください：\")\n",
    "  if word == \"\":\n",
    "    break\n",
    "  \n",
    "  words.append(word)\n",
    "\n",
    "for w in words:\n",
    "  for v in list(w):\n",
    "    alphabet[v] += 1\n",
    "\n",
    "words.sort()\n",
    "print(f\"入力した英単語：{words}\")\n",
    "\n",
    "for key, value in alphabet.items():\n",
    "  if value > 0:\n",
    "    print(f\"{key}が{value}個ありました\")"
   ]
  },
  {
   "cell_type": "code",
   "execution_count": null,
   "id": "c9b89f0b",
   "metadata": {},
   "outputs": [],
   "source": []
  }
 ],
 "metadata": {
  "kernelspec": {
   "display_name": ".venv",
   "language": "python",
   "name": "python3"
  },
  "language_info": {
   "codemirror_mode": {
    "name": "ipython",
    "version": 3
   },
   "file_extension": ".py",
   "mimetype": "text/x-python",
   "name": "python",
   "nbconvert_exporter": "python",
   "pygments_lexer": "ipython3",
   "version": "3.12.8"
  }
 },
 "nbformat": 4,
 "nbformat_minor": 5
}
