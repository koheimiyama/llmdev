{
 "cells": [
  {
   "cell_type": "code",
   "execution_count": 7,
   "id": "8b294e3f",
   "metadata": {},
   "outputs": [],
   "source": [
    "def validation(s):\n",
    "    if not 5 <= len(s) <= 15:\n",
    "        print(\"エラー: ユーザー名は5文字以上15文字以内で入力してください\")\n",
    "        print(\"不正なユーザー名です\")\n",
    "        return False\n",
    "    elif \" \" in s:\n",
    "        print(\"エラー: ユーザー名に空白を含めることはできません\")\n",
    "        print(\"不正なユーザー名です\")\n",
    "        return False\n",
    "    elif not s.isalnum():\n",
    "        print(\"エラー: ユーザー名は英数字のみ使用できます\")\n",
    "        print(\"不正なユーザー名です\")\n",
    "        return False\n",
    "    else:\n",
    "        print(\"ユーザー名は有効です\")\n",
    "        return True\n"
   ]
  },
  {
   "cell_type": "code",
   "execution_count": 8,
   "id": "4901913d",
   "metadata": {},
   "outputs": [
    {
     "name": "stdout",
     "output_type": "stream",
     "text": [
      "ユーザー名は有効です\n"
     ]
    },
    {
     "data": {
      "text/plain": [
       "True"
      ]
     },
     "execution_count": 8,
     "metadata": {},
     "output_type": "execute_result"
    }
   ],
   "source": [
    "validation(\"JohnDoe123\")"
   ]
  },
  {
   "cell_type": "code",
   "execution_count": 9,
   "id": "b9d34631",
   "metadata": {},
   "outputs": [
    {
     "name": "stdout",
     "output_type": "stream",
     "text": [
      "エラー: ユーザー名は5文字以上15文字以内で入力してください\n",
      "不正なユーザー名です\n"
     ]
    },
    {
     "data": {
      "text/plain": [
       "False"
      ]
     },
     "execution_count": 9,
     "metadata": {},
     "output_type": "execute_result"
    }
   ],
   "source": [
    "validation(\"JD\")"
   ]
  },
  {
   "cell_type": "code",
   "execution_count": 10,
   "id": "73674af5",
   "metadata": {},
   "outputs": [
    {
     "name": "stdout",
     "output_type": "stream",
     "text": [
      "エラー: ユーザー名は英数字のみ使用できます\n",
      "不正なユーザー名です\n"
     ]
    },
    {
     "data": {
      "text/plain": [
       "False"
      ]
     },
     "execution_count": 10,
     "metadata": {},
     "output_type": "execute_result"
    }
   ],
   "source": [
    "validation(\"John@Doe\")"
   ]
  },
  {
   "cell_type": "code",
   "execution_count": 11,
   "id": "894f1fe3",
   "metadata": {},
   "outputs": [
    {
     "name": "stdout",
     "output_type": "stream",
     "text": [
      "エラー: ユーザー名に空白を含めることはできません\n",
      "不正なユーザー名です\n"
     ]
    },
    {
     "data": {
      "text/plain": [
       "False"
      ]
     },
     "execution_count": 11,
     "metadata": {},
     "output_type": "execute_result"
    }
   ],
   "source": [
    "validation(\"John Doe\")"
   ]
  },
  {
   "cell_type": "code",
   "execution_count": null,
   "id": "6c714c4e",
   "metadata": {},
   "outputs": [],
   "source": []
  }
 ],
 "metadata": {
  "kernelspec": {
   "display_name": ".venv",
   "language": "python",
   "name": "python3"
  },
  "language_info": {
   "codemirror_mode": {
    "name": "ipython",
    "version": 3
   },
   "file_extension": ".py",
   "mimetype": "text/x-python",
   "name": "python",
   "nbconvert_exporter": "python",
   "pygments_lexer": "ipython3",
   "version": "3.12.8"
  }
 },
 "nbformat": 4,
 "nbformat_minor": 5
}
