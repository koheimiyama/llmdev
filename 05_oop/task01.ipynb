{
 "cells": [
  {
   "cell_type": "code",
   "execution_count": 6,
   "id": "fea64c92",
   "metadata": {},
   "outputs": [],
   "source": [
    "class BankAccount:\n",
    "    def __init__(self, balance):\n",
    "        self.__balance = balance \n",
    "    \n",
    "    def deposit(self, amount):\n",
    "        if amount < 0:\n",
    "            print(\"エラー: 正しい金額を入力してください\")\n",
    "        else:\n",
    "            self.__balance += amount\n",
    "    \n",
    "    def withdraw(self, amount):\n",
    "        if amount <= 0 or self.get_balance() < amount:\n",
    "            print(\"エラー: 残高不足または無効な金額です\")\n",
    "        else:\n",
    "            self.__balance -= amount\n",
    "\n",
    "    def get_balance(self):\n",
    "        return self.__balance\n"
   ]
  },
  {
   "cell_type": "code",
   "execution_count": 8,
   "id": "edbd8340",
   "metadata": {},
   "outputs": [
    {
     "name": "stdout",
     "output_type": "stream",
     "text": [
      "1300\n",
      "エラー: 残高不足または無効な金額です\n"
     ]
    }
   ],
   "source": [
    "bank = BankAccount(1000)\n",
    "bank.deposit(500)\n",
    "bank.withdraw(200)\n",
    "print(bank.get_balance())\n",
    "bank.withdraw(1500)\n"
   ]
  },
  {
   "cell_type": "code",
   "execution_count": 9,
   "id": "2511ceb7",
   "metadata": {},
   "outputs": [
    {
     "name": "stdout",
     "output_type": "stream",
     "text": [
      "エラー: 正しい金額を入力してください\n"
     ]
    }
   ],
   "source": [
    "bank = BankAccount(1000)\n",
    "bank.deposit(-500)"
   ]
  },
  {
   "cell_type": "code",
   "execution_count": null,
   "id": "9417cca6",
   "metadata": {},
   "outputs": [],
   "source": []
  }
 ],
 "metadata": {
  "kernelspec": {
   "display_name": ".venv",
   "language": "python",
   "name": "python3"
  },
  "language_info": {
   "codemirror_mode": {
    "name": "ipython",
    "version": 3
   },
   "file_extension": ".py",
   "mimetype": "text/x-python",
   "name": "python",
   "nbconvert_exporter": "python",
   "pygments_lexer": "ipython3",
   "version": "3.12.8"
  }
 },
 "nbformat": 4,
 "nbformat_minor": 5
}
