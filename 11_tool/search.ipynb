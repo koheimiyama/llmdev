{
 "cells": [
  {
   "cell_type": "code",
   "execution_count": 1,
   "id": "95ba0cfa",
   "metadata": {},
   "outputs": [],
   "source": [
    "# 必要なモジュールをインポート\n",
    "import os\n",
    "import json\n",
    "from dotenv import load_dotenv\n",
    "from openai import OpenAI\n",
    "from openai.types.chat import ChatCompletionToolParam\n",
    "from tavily import TavilyClient\n",
    "\n",
    "# 環境変数の取得\n",
    "load_dotenv(\"../.env\")\n",
    "\n",
    "# OpenAI APIクライアントを生成\n",
    "client = OpenAI(api_key=os.environ['API_KEY'])\n",
    "\n",
    "# tavily検索用APIキーの取得\n",
    "TAVILY_API_KEY = os.environ['TAVILY_API_KEY']\n",
    "\n",
    "# モデル名\n",
    "MODEL_NAME = \"gpt-4o-mini\""
   ]
  },
  {
   "cell_type": "code",
   "execution_count": 2,
   "id": "3482f143",
   "metadata": {},
   "outputs": [],
   "source": [
    "# 検索結果を返す関数の作成\n",
    "def get_search_result(question):\n",
    "    client = TavilyClient(api_key=TAVILY_API_KEY)\n",
    "    response = client.search(question)\n",
    "    return json.dumps({\"result\": response[\"results\"]})"
   ]
  },
  {
   "cell_type": "code",
   "execution_count": 3,
   "id": "5141d180",
   "metadata": {},
   "outputs": [
    {
     "data": {
      "text/plain": [
       "{'result': [{'title': '東京駅(東京都)周辺のイベント - ウォーカープラス',\n",
       "   'url': 'https://www.walkerplus.com/event_list/ar0313/sc309880d/',\n",
       "   'content': '東京駅(東京都)周辺のイベント｜ウォーカープラス 千代田区 中央区 ウォーカープラス 東京駅(東京都)周辺のイベント 東京駅(東京都)周辺のイベント 今日 明日 今週末 千代田区 中央区 アニメ「鬼滅の刃」柱展 ーそして無限城へー終了間近 2024年11月2日(土)～2025年3月2日(日) 江戸にひかり大丸有開催中 2025年1月9日(木)～3月7日(金) 二重橋前駅(東京都), 東京駅(東京都), 大手町駅(東京都), 有楽町駅(東京都), 日比谷駅(東京都) 生誕120年 宮脇綾子の芸術 見た、切った、貼った開催中 2025年1月25日(土)～3月16日(日) 東京駅(東京都), 二重橋前駅(東京都), 大手町駅(東京都), 日本橋駅(東京都), 京橋駅(東京都) 1日限りの光の祭典「アイスキャンドルフェスティバル」と山中湖ダイヤモンド富士と河口湖湖畔 大石公園終了間近 2025年2月23日(日) 二重橋前駅(東京都), 東京駅(東京都), 有楽町駅(東京都), 大手町駅(東京都), 京橋駅(東京都) 丸の内エリアプロジェクションマッピング 東京大浮世絵終了間近 2025年2月21日(金)～25日(火) 二重橋前駅(東京都), 東京駅(東京都), 有楽町駅(東京都), 大手町駅(東京都), 京橋駅(東京都) 二重橋前駅(東京都), 東京駅(東京都), 有楽町駅(東京都), 大手町駅(東京都), 京橋駅(東京都) 二重橋前駅(東京都), 東京駅(東京都), 有楽町駅(東京都), 大手町駅(東京都), 京橋駅(東京都) 大手町駅(東京都), 東京駅(東京都), 二重橋前駅(東京都), 神田駅(東京都), 三越前駅(東京都) Otemachi One Illumination終了間近 2024年11/8(金)～2025年2月下旬 大手町駅(東京都), 竹橋駅(東京都), 神田駅(東京都), 二重橋前駅(東京都), 東京駅(東京都) 京橋エドグラン クリスマスイルミネーション2024終了間近 2024年11月22日(金)～2025年2月28日(金) 京橋駅(東京都), 宝町駅(東京都), 銀座一丁目駅(東京都), 東京駅(東京都), 有楽町駅(東京都) 2月 3月 4月 5月 千代田区 中央区 からだにplus Walker 「食事」や「行動」を中心とした、健康維持に役立つ情報をたっぷりとお届け CHECK!関東の人気ランキングはこちら 東京 東京 東京 動き出す浮世絵展 TOKYO 新！いい人すぎるよ展＆すぎるよすぎるよ展(東京) {{/ is_event }} {{# is_spot }}  {{ name }} {{ pref_name }}{{ city_name }} ウォーカープラス @walkerplus_news ウォーカープラス漫画部 @walkerpluscomic 関西ウォーカー @KansaiWalkers 東海ウォーカー @TokaiWalkers キャラWalker @chara_walker_ MOVIE WALKER PRESS',\n",
       "   'score': 0.8215175,\n",
       "   'raw_content': None},\n",
       "  {'title': '東京駅周辺・丸の内でおすすめのイベント',\n",
       "   'url': 'https://www.enjoytokyo.jp/event/list/area1306/',\n",
       "   'content': '～ 2025/03/16(日) MOTAS.による新作個展「オリジナルレシピ / Original Recipe」が、Gallery & Bakery Tokyo ８分にて開催中。 2025/03/15(土) ～ 04/08(火) 2025/03/12(水) ～ 04/01(火) 2025/02/28(金) ～ 03/23(日) 2025/03/07(金) ～ 03/23(日) ※金曜日、土曜日、日曜日のみ 2025 in TOKYO MIDTOWN YAESU 2025/03/07(金) ～ 04/06(日) ※各イベントによって開催日が異なります。詳細は公式サイトをご確認ください。 2025/03/01(土) ～ 06/01(日) 休館日：月曜日（5月5日は開館）、5月7日 2025/03/01(土) ～ 06/01(日) 休館日：月曜日（5月5日は開館）、5月7日 2025/03/05(水) ～ 03/25(火) 2025/02/22(土) ～ 04/20(日) 進撃の巨人：2025/03/21(金)～03/30(日)\\r 2024/10/10(木) ～ 2025/03/30(日) 2025/03/19(水) ～ 04/06(日) 2025/03/19(水) ～ 03/25(火) 2025/08/20(水) ～ 09/07(日) 2025/03/21(金) ～ 03/30(日) 2025/04/09(水) ～ 04/13(日) 2025/06/21(土) ～ 06/22(日) ～ 2025/03/16(日) 【パスタコース】サラダバー・パスタ・いちごデザートビュッフェ【AWKitchen TOKYO 新丸ビル店】 2024/12/01(日) ～ 2025/05/31(土) 2024/11/01(金) ～ 2025/05/11(日) 2025/03/07(金) ～ 03/23(日) 開催日は期間中の金曜・土曜・日曜。開映日時は作品によって異なる。 2025/03/20(木・祝) ～ 03/30(日) 2025/03/20(木・祝) ～ 05/25(日) 2025/03/22(土) ～ 03/28(金) 2025/03/08(土) ～ 09/07(日) 2025/03/22(土) ～ 03/23(日) 2025/03/01(土) ～ 04/20(日) TOKYO TOWER CITY LIGHT FANTASIA - Spring Concerto 2025 - © Tokyo Metro Co., Ltd. & Let’s ENJOY TOKYO, Inc.',\n",
       "   'score': 0.7946564,\n",
       "   'raw_content': None},\n",
       "  {'title': 'イベント&ニュース - 東京駅一番街',\n",
       "   'url': 'https://www.tokyoeki-1bangai.co.jp/event/',\n",
       "   'content': 'EVENT クロネコパティスリー 2025.03.19.wed 〜 2025.03.25.tue 東京ギフトパレット内「Weekly Palette」 EVENT ブルブルくんステーション ブルーベリーエクスプレス 2025.03.14.fri 〜 2025.03.27.thu 東京駅一番街 地下1階 東京キャラクターストリート Ｇ階段下ワゴン EVENT Macross White Day POP UP SHOPPOP UP SHOP in 東京キャラクターストリート by eeo 2025.03.14.fri 〜 2025.03.27.thu 東京駅一番街 地下1階 東京キャラクターストリート F階段下ワゴン EVENT 豪華賞品が当たる！東京駅一番街20周年記念 デジタルスタンプラリー開催中！ 2025.03.07.fri 〜 2025.05.08.thu 東京駅一番街 全店（但し、宝くじ各店、ガシャポン店舗は除く） EVENT ”Charaful Liner in KIDDY LAND” ～ ENJOY OUR TRIP～ 2025.03.21.fri 〜 2025.04.03.thu 東京駅一番街 地下1階 東京キャラクターストリート Ｋ階段下ワゴン EVENT 赤福／五十鈴茶屋 2025.03.26.wed 〜 2025.04.08.tue 東京ギフトパレット内「Weekly Palette」 EVENT 呪術廻戦 POP UP STORE 2025.03.07.fri 〜 2025.03.20.thu 東京駅一番街 地下一階 いちばんプラザ EVENT ハンギョドン 40thAnniversary Fair 2025.03.07.fri 〜 2025.03.20.thu 東京駅一番街 地下1階 東京キャラクターストリート Ｋ階段下ワゴン EVENT 東京おかしランドイベントスペースに「PANDARS SHOP」を期間限定でオープン！ 2025.02.13.thu 〜 2025.04.01.tue 東京おかしランド イベントスペース EVENT ル ペパン 2025.03.05.wed 〜 2025.03.18.tue 東京ギフトパレット内「Weekly Palette」 EVENT リアル脱出ゲーム『謎だらけの東京駅からの脱出』Supported by 東京ばな奈 2024.11.06.wed 〜 2025.05.06.tue 東京おかしランド公式 Instagram @tokyo_okashiland 東京キャラクターストリート公式 Instagram @tokyo_characterstreet',\n",
       "   'score': 0.74318707,\n",
       "   'raw_content': None},\n",
       "  {'title': '東京駅丸の内駅舎周辺のイベントランキング - じゃらんnet',\n",
       "   'url': 'https://www.jalan.net/kankou/spt_guide000000204974/event/',\n",
       "   'content': '東京駅丸の内駅舎周辺で開催中のイベントランキング。東京駅丸の内駅舎周辺では「大江戸骨董市（期間：毎月第1・3日曜）」や「神田祭（期間：2025年5月8日～15日）」などが開催中。東京駅丸の内駅舎周辺のホテル／観光スポット／イベント／ご当地グルメ情報も充実。',\n",
       "   'score': 0.67885995,\n",
       "   'raw_content': None},\n",
       "  {'title': '東京で今日やっているイベント | 関東のお出かけ情報ならオソトイコ',\n",
       "   'url': 'https://osotoiko.com/areainfo-today-tokyo',\n",
       "   'content': 'また、みなさまからのイベント情報も随時募集中です!たくさんの方がイベントに来てくださるようにお手伝いいたします。お出かけしたくなるwebメディア「オソトイコ」をぜひご活用ください! お休みの前にはオソトイコをチェックしてお外へ行こう!',\n",
       "   'score': 0.30560455,\n",
       "   'raw_content': None}]}"
      ]
     },
     "execution_count": 3,
     "metadata": {},
     "output_type": "execute_result"
    }
   ],
   "source": [
    "# テスト用コード\n",
    "ret = get_search_result(\"東京駅のイベントを教えて\")\n",
    "json.loads(ret)"
   ]
  },
  {
   "cell_type": "code",
   "execution_count": 4,
   "id": "8a72c694",
   "metadata": {},
   "outputs": [],
   "source": [
    "# ツール定義\n",
    "def define_tools():\n",
    "    return [\n",
    "        ChatCompletionToolParam({\n",
    "            \"type\": \"function\",\n",
    "            \"function\": {\n",
    "                \"name\": \"get_search_result\",\n",
    "                \"description\": \"指定した質問文の検索結果を取得する\",\n",
    "                \"parameters\": {\n",
    "                    \"type\": \"object\",\n",
    "                    \"properties\": {\n",
    "                        \"question\": {\"type\": \"string\", \"description\": \"質問文\"},\n",
    "                    },\n",
    "                    \"required\": [\"question\"],\n",
    "                },\n",
    "            },\n",
    "        })\n",
    "    ]"
   ]
  },
  {
   "cell_type": "code",
   "execution_count": 5,
   "id": "ceb14d06",
   "metadata": {},
   "outputs": [],
   "source": [
    "# 言語モデルへの質問を行う関数\n",
    "def ask_question(question, tools):\n",
    "    response = client.chat.completions.create(\n",
    "        model=MODEL_NAME,\n",
    "        messages=[{\"role\": \"user\", \"content\": question}],\n",
    "        tools=tools,\n",
    "        tool_choice=\"auto\",\n",
    "    )\n",
    "    return response"
   ]
  },
  {
   "cell_type": "code",
   "execution_count": 6,
   "id": "d527a4ce",
   "metadata": {},
   "outputs": [],
   "source": [
    "# ツール呼び出しが必要な場合の処理を行う関数\n",
    "def handle_tool_call(response, question):\n",
    "    # 関数の実行と結果取得\n",
    "    tool = response.choices[0].message.tool_calls[0]\n",
    "    function_name = tool.function.name\n",
    "    arguments = json.loads(tool.function.arguments)\n",
    "    function_response = globals()[function_name](**arguments)\n",
    "\n",
    "    # 関数の実行結果をmessagesに加えて再度言語モデルを呼出\n",
    "    response_after_tool_call = client.chat.completions.create(\n",
    "        model=MODEL_NAME,\n",
    "        messages=[\n",
    "            {\"role\": \"user\", \"content\": question},\n",
    "            response.choices[0].message,\n",
    "            {\n",
    "                \"tool_call_id\": tool.id,\n",
    "                \"role\": \"tool\",\n",
    "                \"content\": function_response,\n",
    "            },\n",
    "        ],\n",
    "    )\n",
    "    return response_after_tool_call"
   ]
  },
  {
   "cell_type": "code",
   "execution_count": 7,
   "id": "72c821e4",
   "metadata": {},
   "outputs": [],
   "source": [
    "# ユーザーからの質問を処理する関数\n",
    "def process_response(question, tools):\n",
    "    response = ask_question(question, tools)\n",
    "\n",
    "    if response.choices[0].finish_reason == 'tool_calls':\n",
    "        # ツール呼出の場合\n",
    "        final_response = handle_tool_call(response, question)\n",
    "        return final_response.choices[0].message.content.strip()\n",
    "    else:\n",
    "        # 言語モデルが直接回答する場合\n",
    "        return response.choices[0].message.content.strip()"
   ]
  },
  {
   "cell_type": "code",
   "execution_count": 8,
   "id": "96c9f92b",
   "metadata": {},
   "outputs": [
    {
     "name": "stdout",
     "output_type": "stream",
     "text": [
      "東京都（おけいとう）は面積が約2,188.67 km²であるのに対し、沖縄県は約2,276.49 km²です。つまり、沖縄県の方が東京都よりも広いです。\n"
     ]
    }
   ],
   "source": [
    "tools = define_tools()\n",
    "\n",
    "# 言語モデルが直接回答できる質問\n",
    "question = \"東京都と沖縄県はどちらが広いですか？\"\n",
    "response_message = process_response(question, tools)\n",
    "print(response_message)"
   ]
  },
  {
   "cell_type": "code",
   "execution_count": 9,
   "id": "64a5bbe1",
   "metadata": {},
   "outputs": [
    {
     "name": "stdout",
     "output_type": "stream",
     "text": [
      "最近1ヶ月以内に東京駅で行われているイベントの情報をいくつか紹介します。\n",
      "\n",
      "1. **東京駅周辺のイベント - ウォーカープラス**\n",
      "   - 日時: 2025年1月25日（金）～3月30日（日）\n",
      "   - 内容: 東京駅周辺で開催される様々なイベントが紹介されています。詳細は[こちら](https://www.walkerplus.com/event_list/ar0313/sc309880d/)から。\n",
      "\n",
      "2. **イベント情報 - 楽しむ東京**\n",
      "   - 日時: 2025年3月5日（水）～4月20日（日）\n",
      "   - 内容: Gallery & Bakery Tokyoでの新作個展や、各種アートイベントが予定されています。詳細は[こちら](https://www.enjoytokyo.jp/event/list/area1306/)で確認できます。\n",
      "\n",
      "3. **東京駅一番街のイベント - 東京駅一番街**\n",
      "   - 日時: 2025年3月14日（金）～3月27日（木）\n",
      "   - 内容: MacrossホワイトデーPOP UP SHOPや、特別なイベントが予定されています。詳細は[こちら](https://www.tokyoeki-1bangai.co.jp/event/)でご覧ください。\n",
      "\n",
      "4. **東京駅周辺の光のイベント**\n",
      "   - 日時: 2025年1月1日（水）～4月30日（火）\n",
      "   - 内容: 東京駅近くでの夜間のイルミネーションイベントが開催されています。詳細は[こちら](https://bestcalendar.jp/events/%E6%9D%B1%E4%BA%AC%E9%A7%85)を参照。\n",
      "\n",
      "これらのイベントは、文化、アート、グルメなど多彩な内容があり、訪れる際の参考にしてください。\n"
     ]
    }
   ],
   "source": [
    "tools = define_tools()\n",
    "\n",
    "# ツール呼出が必要な質問\n",
    "question = \"東京駅のイベントについて、最近1ヶ月以内の検索結果を教えてください\"\n",
    "response_message = process_response(question, tools)\n",
    "print(response_message)"
   ]
  },
  {
   "cell_type": "code",
   "execution_count": 16,
   "id": "5101e7b0",
   "metadata": {},
   "outputs": [
    {
     "data": {
      "text/plain": [
       "'質問:こんにちは!'"
      ]
     },
     "metadata": {},
     "output_type": "display_data"
    },
    {
     "name": "stdout",
     "output_type": "stream",
     "text": [
      "こんにちは！どのようにお手伝いできますか？\n"
     ]
    },
    {
     "data": {
      "text/plain": [
       "'質問:東北6県は？'"
      ]
     },
     "metadata": {},
     "output_type": "display_data"
    },
    {
     "name": "stdout",
     "output_type": "stream",
     "text": [
      "東北6県は以下の通りです：\n",
      "\n",
      "1. 青森県（あおもりけん）\n",
      "2. 岩手県（いわてけん）\n",
      "3. 宮城県（みやぎけん）\n",
      "4. 秋田県（あきたけん）\n",
      "5. 山形県（やまがたけん）\n",
      "6. 福島県（ふくしまけん）\n",
      "\n",
      "これらの県は日本の東北地方に位置しており、それぞれ独自の文化や自然が存在しています。\n"
     ]
    },
    {
     "data": {
      "text/plain": [
       "'質問:宮城県のお土産について検索した結果を教えて'"
      ]
     },
     "metadata": {},
     "output_type": "display_data"
    },
    {
     "name": "stdout",
     "output_type": "stream",
     "text": [
      "宮城県のお土産にはいくつかの人気の商品があります。以下にいくつかの例を挙げます。\n",
      "\n",
      "1. **牛たん** - 名物の牛たんは、宮城県産の厳選された肉を使用しており、多くの店で提供されています。特に、仙台市内には多くの有名牛たん店があります。\n",
      "\n",
      "2. **笹かまぼこ** - 宮城県の特産品である笹かまぼこは、魚のすり身を使って作られ、特有の風味と食感が楽しめます。詰め合わせのセットも人気です。\n",
      "\n",
      "3. **ずんだ餅** - 枝豆をペースト状にした「ずんだ」が使われるこの餅は、甘さと豆の風味が絶妙なバランスです。お土産としても人気があります。\n",
      "\n",
      "4. **かむくらまんじゅう** - 地元の人々に愛されているお菓子で、しっとりとした生地と上品なあんこが特徴です。\n",
      "\n",
      "5. **フルーツ** - 特に、桃やさくらんぼ、りんごなどの旬の果物は、地元の名産品として評価されています。\n",
      "\n",
      "6. **地酒** - 宮城県には多くの酒蔵があり、地酒や日本酒もお土産として喜ばれています。\n",
      "\n",
      "これらの他にも、多くの地元特産品がありますので、訪れた際にはぜひ試してみてください。\n",
      "\n",
      "---ご利用ありがとうございました！---\n"
     ]
    }
   ],
   "source": [
    "# チャットボットへの組み込み\n",
    "tools = define_tools()\n",
    "\n",
    "messages=[]\n",
    "\n",
    "role = \"あなたは地理学の教授です。\"\n",
    "messages.append({\"role\": \"system\", \"content\": role})\n",
    "\n",
    "while(True):\n",
    "    # ユーザーからの質問を受付\n",
    "    question = input(\"メッセージを入力:\")\n",
    "    # 質問が入力されなければ終了\n",
    "    if question.strip()==\"\":\n",
    "        break\n",
    "    display(f\"質問:{question}\")\n",
    "\n",
    "    # メッセージにユーザーからの質問を追加\n",
    "    messages.append({\"role\": \"user\", \"content\": question.strip()})\n",
    "    # やりとりが8を超えたら古いメッセージから削除\n",
    "    if len(messages) > 8:\n",
    "        del_message = messages.pop(1)\n",
    "\n",
    "    # 言語モデルに質問\n",
    "    response_message = process_response(question, tools)\n",
    "\n",
    "    # メッセージに言語モデルからの回答を追加\n",
    "    print(response_message, flush=True)\n",
    "    messages.append({\"role\": \"assistant\", \"content\": response_message})\n",
    "\n",
    "print(\"\\n---ご利用ありがとうございました！---\")"
   ]
  },
  {
   "cell_type": "code",
   "execution_count": null,
   "id": "235166f2",
   "metadata": {},
   "outputs": [],
   "source": []
  }
 ],
 "metadata": {
  "kernelspec": {
   "display_name": ".venv",
   "language": "python",
   "name": "python3"
  },
  "language_info": {
   "codemirror_mode": {
    "name": "ipython",
    "version": 3
   },
   "file_extension": ".py",
   "mimetype": "text/x-python",
   "name": "python",
   "nbconvert_exporter": "python",
   "pygments_lexer": "ipython3",
   "version": "3.12.8"
  }
 },
 "nbformat": 4,
 "nbformat_minor": 5
}
