{
 "cells": [
  {
   "cell_type": "code",
   "execution_count": 1,
   "id": "3206b0db",
   "metadata": {},
   "outputs": [],
   "source": [
    "# 必要なモジュールをインポート\n",
    "import os\n",
    "from dotenv import load_dotenv\n",
    "from openai import OpenAI\n",
    "from pprint import pprint\n",
    "\n",
    "# 環境変数の取得\n",
    "load_dotenv(\"../.env\")\n",
    "\n",
    "# OpenAI APIクライアントを生成\n",
    "client = OpenAI(api_key=os.environ['API_KEY'])\n",
    "\n",
    "# モデル名\n",
    "MODEL_NAME = \"gpt-4o-mini\""
   ]
  },
  {
   "cell_type": "code",
   "execution_count": 2,
   "id": "121072ab",
   "metadata": {},
   "outputs": [],
   "source": [
    "import json\n",
    "\n",
    "# 検索結果を返す関数の作成\n",
    "def get_search_result(keyword, when=\"1\", unit=\"m\"):\n",
    "    result = {\n",
    "        \"result\": [\n",
    "            {\"title\": \"1914年（大正3年）中央停車場改め「東京駅」として営業を開始しました\"},\n",
    "            {\"title\": \"1929年（昭和4年）八重洲口が開設されました\"},\n",
    "            {\"title\": \"2014年（平成26年）東京駅開業100周年を迎えました\"},\n",
    "        ]\n",
    "    }\n",
    "\n",
    "    return json.dumps(result)"
   ]
  },
  {
   "cell_type": "code",
   "execution_count": 3,
   "id": "0d11697a",
   "metadata": {},
   "outputs": [],
   "source": [
    "from openai.types.chat import ChatCompletionToolParam\n",
    "\n",
    "# ツール定義\n",
    "tools=[\n",
    "    ChatCompletionToolParam({\n",
    "        \"type\": \"function\",\n",
    "        \"function\": {\n",
    "            \"name\": \"get_search_result\",\n",
    "            \"description\": \"指定したキーワードの検索結果を取得する\",\n",
    "            \"parameters\": {\n",
    "                \"type\": \"object\",\n",
    "                \"properties\": {\n",
    "                    \"keyword\": {\n",
    "                        \"type\": \"string\",\n",
    "                        \"description\": \"キーワード\",\n",
    "                    },\n",
    "                    \"when\": {\n",
    "                        \"type\": \"number\",\n",
    "                        \"description\": \"日付や時間の範囲\"\n",
    "                    },\n",
    "                    \"unit\": {\n",
    "                        \"type\": \"string\",\n",
    "                        \"enum\": [\"d\", \"h\", \"y\"]\n",
    "                    },\n",
    "                },\n",
    "                \"required\": [\"keyword\"],\n",
    "            },\n",
    "        },\n",
    "    })\n",
    "]"
   ]
  },
  {
   "cell_type": "code",
   "execution_count": 4,
   "id": "092d19fe",
   "metadata": {},
   "outputs": [
    {
     "name": "stdout",
     "output_type": "stream",
     "text": [
      "{'_request_id': 'req_08f9b4d6839d17ae91a2af45ed63139f',\n",
      " 'choices': [Choice(finish_reason='stop', index=0, logprobs=None, message=ChatCompletionMessage(content='日本の首都は東京にあります。東京は日本の政治、経済、文化の中心地であり、国内外から多くの人々が集まる都市です。', refusal=None, role='assistant', audio=None, function_call=None, tool_calls=None, annotations=[]))],\n",
      " 'created': 1747274516,\n",
      " 'id': 'chatcmpl-BXICyAvDUvCFlSPkL33JN7cFj4MkX',\n",
      " 'model': 'gpt-4o-mini-2024-07-18',\n",
      " 'object': 'chat.completion',\n",
      " 'service_tier': 'default',\n",
      " 'system_fingerprint': 'fp_0392822090',\n",
      " 'usage': CompletionUsage(completion_tokens=42, prompt_tokens=91, total_tokens=133, completion_tokens_details=CompletionTokensDetails(accepted_prediction_tokens=0, audio_tokens=0, reasoning_tokens=0, rejected_prediction_tokens=0), prompt_tokens_details=PromptTokensDetails(audio_tokens=0, cached_tokens=0))}\n"
     ]
    }
   ],
   "source": [
    "# 言語モデルが直接回答できる質問\n",
    "question = \"日本の首都はどこにありますか？\"\n",
    "\n",
    "response = client.chat.completions.create(\n",
    "    model=MODEL_NAME,\n",
    "    messages=[\n",
    "        {\"role\": \"user\", \"content\": question},\n",
    "    ],\n",
    "    tools=tools,\n",
    "    tool_choice=\"auto\",\n",
    ")\n",
    "\n",
    "# レスポンスの表示\n",
    "pprint(vars(response))"
   ]
  },
  {
   "cell_type": "code",
   "execution_count": 5,
   "id": "c9d15700",
   "metadata": {},
   "outputs": [
    {
     "name": "stdout",
     "output_type": "stream",
     "text": [
      "{'_request_id': 'req_8fb522c07c7ca065e051f42685d7f7b5',\n",
      " 'choices': [Choice(finish_reason='tool_calls', index=0, logprobs=None, message=ChatCompletionMessage(content=None, refusal=None, role='assistant', audio=None, function_call=None, tool_calls=[ChatCompletionMessageToolCall(id='call_IOYLqJMGhWPDqwLmB3AzQnRu', function=Function(arguments='{\"keyword\":\"東京駅\\u3000イベント\",\"when\":30,\"unit\":\"d\"}', name='get_search_result'), type='function')], annotations=[]))],\n",
      " 'created': 1747274686,\n",
      " 'id': 'chatcmpl-BXIFi1fPpvWPl4Cw3bOBeNZ7CLBVw',\n",
      " 'model': 'gpt-4o-mini-2024-07-18',\n",
      " 'object': 'chat.completion',\n",
      " 'service_tier': 'default',\n",
      " 'system_fingerprint': 'fp_0392822090',\n",
      " 'usage': CompletionUsage(completion_tokens=27, prompt_tokens=97, total_tokens=124, completion_tokens_details=CompletionTokensDetails(accepted_prediction_tokens=0, audio_tokens=0, reasoning_tokens=0, rejected_prediction_tokens=0), prompt_tokens_details=PromptTokensDetails(audio_tokens=0, cached_tokens=0))}\n"
     ]
    }
   ],
   "source": [
    "# ツール呼出が必要な質問\n",
    "question = \"東京駅のイベントについて、最近1ヶ月以内の検索結果を教えてください\"\n",
    "\n",
    "response = client.chat.completions.create(\n",
    "    model=MODEL_NAME,\n",
    "    messages=[\n",
    "        {\"role\": \"user\", \"content\": question},\n",
    "    ],\n",
    "    tools=tools,\n",
    "    tool_choice=\"auto\",\n",
    ")\n",
    "\n",
    "# レスポンスの表示\n",
    "pprint(vars(response))"
   ]
  },
  {
   "cell_type": "code",
   "execution_count": 6,
   "id": "d111454e",
   "metadata": {},
   "outputs": [
    {
     "name": "stdout",
     "output_type": "stream",
     "text": [
      "関数名：get_search_result\n",
      "引数：{'keyword': '東京駅\\u3000イベント', 'when': 30, 'unit': 'd'}\n",
      "関数の実行結果：\n",
      "{'result': [{'title': '1914年（大正3年）中央停車場改め「東京駅」として営業を開始しました'},\n",
      "            {'title': '1929年（昭和4年）八重洲口が開設されました'},\n",
      "            {'title': '2014年（平成26年）東京駅開業100周年を迎えました'}]}\n",
      "言語モデルからの回答：\n",
      "最近1ヶ月以内の東京駅のイベントに関する検索結果は以下の通りです：\n",
      "\n",
      "1. **1914年（大正3年）** 中央停車場改め「東京駅」として開業を開始しました。\n",
      "2. **1929年（昭和4年）** 八重洲口が開設されました。\n",
      "3. **2014年（平成26年）** 東京駅開業100周年を迎えました。\n",
      "\n",
      "これらの情報は東京駅の歴史に関連するイベントの概要ですが、具体的な最近のイベント情報については、公式サイトや関連のニュースメディアでの確認が必要です。\n"
     ]
    }
   ],
   "source": [
    "# モデルがツール呼出と判断した\n",
    "if response.choices[0].finish_reason == 'tool_calls':\n",
    "    # 言語モデルの回答からツールを取得\n",
    "    tool = response.choices[0].message.tool_calls[0]\n",
    "\n",
    "    # 関数名の取得\n",
    "    function_name = tool.function.name\n",
    "    print(f\"関数名：{function_name}\")\n",
    "\n",
    "    # 引数の取得\n",
    "    arguments = json.loads(tool.function.arguments)\n",
    "    print(f\"引数：{arguments}\")\n",
    "\n",
    "    # 関数の実行\n",
    "    function_response = globals()[function_name](**arguments)\n",
    "    print(\"関数の実行結果：\")\n",
    "    pprint(json.loads(function_response))\n",
    "\n",
    "    # 関数の実行結果をmessagesに加えて言語モデルを呼出\n",
    "    response_after_tool_call = client.chat.completions.create(\n",
    "        model=MODEL_NAME,\n",
    "        messages=[\n",
    "            {\"role\": \"user\", \"content\": question},\n",
    "            response.choices[0].message,\n",
    "            {\n",
    "                \"tool_call_id\": tool.id,\n",
    "                \"role\": \"tool\",\n",
    "                \"content\": function_response,\n",
    "            },\n",
    "        ],\n",
    "    )\n",
    "\n",
    "    # 言語モデルからの回答を出力\n",
    "    print(\"言語モデルからの回答：\")\n",
    "    print(response_after_tool_call.choices[0].message.content.strip())\n",
    "\n",
    "else:\n",
    "    # 関数呼び出しでなければ、単に言語モデルからの回答を出力\n",
    "    print(\"言語モデルからの回答：\")\n",
    "    print(response.choices[0].message.content.strip())"
   ]
  },
  {
   "cell_type": "code",
   "execution_count": null,
   "id": "92dcae3c",
   "metadata": {},
   "outputs": [],
   "source": []
  }
 ],
 "metadata": {
  "kernelspec": {
   "display_name": ".venv",
   "language": "python",
   "name": "python3"
  },
  "language_info": {
   "codemirror_mode": {
    "name": "ipython",
    "version": 3
   },
   "file_extension": ".py",
   "mimetype": "text/x-python",
   "name": "python",
   "nbconvert_exporter": "python",
   "pygments_lexer": "ipython3",
   "version": "3.12.8"
  }
 },
 "nbformat": 4,
 "nbformat_minor": 5
}
