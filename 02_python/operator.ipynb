{
 "cells": [
  {
   "cell_type": "code",
   "execution_count": 1,
   "id": "158f77ca",
   "metadata": {},
   "outputs": [
    {
     "name": "stdout",
     "output_type": "stream",
     "text": [
      "加算:  13\n",
      "減算:  7\n",
      "乗算:  30\n",
      "割算（浮動小数点）:  3.3333333333333335\n",
      "整数除算:  3\n",
      "余り:  1\n",
      "累乗:  1000\n"
     ]
    }
   ],
   "source": [
    "# 算術演算子の例\n",
    "a = 10\n",
    "b = 3\n",
    "\n",
    "sum_result = a + b\n",
    "diff_result = a - b\n",
    "product_result = a * b\n",
    "quotient_result = a / b    # 割り算（結果は浮動小数点）\n",
    "int_quotient_result = a // b  # 整数除算\n",
    "remainder_result = a % b\n",
    "power_result = a ** b      # 累乗\n",
    "\n",
    "print(\"加算: \", sum_result)          # 13\n",
    "print(\"減算: \", diff_result)         # 7\n",
    "print(\"乗算: \", product_result)      # 30\n",
    "print(\"割算（浮動小数点）: \", quotient_result)  # 3.333...\n",
    "print(\"整数除算: \", int_quotient_result)       # 3\n",
    "print(\"余り: \", remainder_result)     # 1\n",
    "print(\"累乗: \", power_result)         # 1000"
   ]
  },
  {
   "cell_type": "code",
   "execution_count": 2,
   "id": "76c31f5c",
   "metadata": {},
   "outputs": [
    {
     "name": "stdout",
     "output_type": "stream",
     "text": [
      "100 < x < 200:  True\n",
      "100 < y < 200:  False\n"
     ]
    }
   ],
   "source": [
    "# 連続比較の例\n",
    "x = 150\n",
    "print(\"100 < x < 200: \", 100 < x < 200)  # True\n",
    "\n",
    "y = 50\n",
    "print(\"100 < y < 200: \", 100 < y < 200)  # False"
   ]
  },
  {
   "cell_type": "code",
   "execution_count": 3,
   "id": "5594f7fd",
   "metadata": {},
   "outputs": [
    {
     "name": "stdout",
     "output_type": "stream",
     "text": [
      "a & b:  0b1000\n",
      "a | b:  0b1110\n",
      "a ^ b:  0b110\n",
      "a << 1:  0b11000\n",
      "a >> 1:  0b110\n"
     ]
    }
   ],
   "source": [
    "# ビット演算子の例\n",
    "a = 0b1100  # 12\n",
    "b = 0b1010  # 10\n",
    "\n",
    "print(\"a & b: \", bin(a & b))   # 0b1000\n",
    "print(\"a | b: \", bin(a | b))   # 0b1110\n",
    "print(\"a ^ b: \", bin(a ^ b))   # 0b0110\n",
    "print(\"a << 1: \", bin(a << 1)) # 0b11000\n",
    "print(\"a >> 1: \", bin(a >> 1)) # 0b0110"
   ]
  },
  {
   "cell_type": "code",
   "execution_count": null,
   "id": "20ee3d16",
   "metadata": {},
   "outputs": [],
   "source": []
  }
 ],
 "metadata": {
  "kernelspec": {
   "display_name": ".venv",
   "language": "python",
   "name": "python3"
  },
  "language_info": {
   "codemirror_mode": {
    "name": "ipython",
    "version": 3
   },
   "file_extension": ".py",
   "mimetype": "text/x-python",
   "name": "python",
   "nbconvert_exporter": "python",
   "pygments_lexer": "ipython3",
   "version": "3.12.8"
  }
 },
 "nbformat": 4,
 "nbformat_minor": 5
}
